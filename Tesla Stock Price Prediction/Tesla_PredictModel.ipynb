{
 "cells": [
  {
   "cell_type": "markdown",
   "metadata": {},
   "source": [
    "# Tesla Stock Price Prediction with Prophet"
   ]
  },
  {
   "cell_type": "markdown",
   "metadata": {},
   "source": [
    "## Importing and Initializing  Libraries"
   ]
  },
  {
   "cell_type": "code",
   "execution_count": 7,
   "metadata": {},
   "outputs": [],
   "source": [
    "import pandas  as pd\n",
    "import numpy as np\n",
    "import plotly.express as px\n",
    "import plotly.io as pio\n",
    "import matplotlib.pyplot as plt\n",
    "import prophet"
   ]
  },
  {
   "cell_type": "markdown",
   "metadata": {},
   "source": [
    "## Importing the Dataset"
   ]
  },
  {
   "cell_type": "code",
   "execution_count": 10,
   "metadata": {},
   "outputs": [],
   "source": [
    "df = pd.read_csv('TESLA_stock.csv')"
   ]
  },
  {
   "cell_type": "code",
   "execution_count": 12,
   "metadata": {},
   "outputs": [
    {
     "data": {
      "text/html": [
       "<div>\n",
       "<style scoped>\n",
       "    .dataframe tbody tr th:only-of-type {\n",
       "        vertical-align: middle;\n",
       "    }\n",
       "\n",
       "    .dataframe tbody tr th {\n",
       "        vertical-align: top;\n",
       "    }\n",
       "\n",
       "    .dataframe thead th {\n",
       "        text-align: right;\n",
       "    }\n",
       "</style>\n",
       "<table border=\"1\" class=\"dataframe\">\n",
       "  <thead>\n",
       "    <tr style=\"text-align: right;\">\n",
       "      <th></th>\n",
       "      <th>Date</th>\n",
       "      <th>Open</th>\n",
       "      <th>High</th>\n",
       "      <th>Low</th>\n",
       "      <th>Close</th>\n",
       "      <th>Adj Close</th>\n",
       "      <th>Volume</th>\n",
       "    </tr>\n",
       "  </thead>\n",
       "  <tbody>\n",
       "    <tr>\n",
       "      <th>310</th>\n",
       "      <td>2024-03-28</td>\n",
       "      <td>177.449997</td>\n",
       "      <td>179.570007</td>\n",
       "      <td>175.300003</td>\n",
       "      <td>175.789993</td>\n",
       "      <td>175.789993</td>\n",
       "      <td>77654800</td>\n",
       "    </tr>\n",
       "    <tr>\n",
       "      <th>311</th>\n",
       "      <td>2024-04-01</td>\n",
       "      <td>176.169998</td>\n",
       "      <td>176.750000</td>\n",
       "      <td>170.210007</td>\n",
       "      <td>175.220001</td>\n",
       "      <td>175.220001</td>\n",
       "      <td>81562100</td>\n",
       "    </tr>\n",
       "    <tr>\n",
       "      <th>312</th>\n",
       "      <td>2024-04-02</td>\n",
       "      <td>164.750000</td>\n",
       "      <td>167.690002</td>\n",
       "      <td>163.429993</td>\n",
       "      <td>166.630005</td>\n",
       "      <td>166.630005</td>\n",
       "      <td>116650600</td>\n",
       "    </tr>\n",
       "    <tr>\n",
       "      <th>313</th>\n",
       "      <td>2024-04-03</td>\n",
       "      <td>164.020004</td>\n",
       "      <td>168.820007</td>\n",
       "      <td>163.279999</td>\n",
       "      <td>168.380005</td>\n",
       "      <td>168.380005</td>\n",
       "      <td>82578000</td>\n",
       "    </tr>\n",
       "    <tr>\n",
       "      <th>314</th>\n",
       "      <td>2024-04-04</td>\n",
       "      <td>170.000000</td>\n",
       "      <td>177.190002</td>\n",
       "      <td>168.009995</td>\n",
       "      <td>171.110001</td>\n",
       "      <td>171.110001</td>\n",
       "      <td>121875403</td>\n",
       "    </tr>\n",
       "  </tbody>\n",
       "</table>\n",
       "</div>"
      ],
      "text/plain": [
       "           Date        Open        High         Low       Close   Adj Close  \\\n",
       "310  2024-03-28  177.449997  179.570007  175.300003  175.789993  175.789993   \n",
       "311  2024-04-01  176.169998  176.750000  170.210007  175.220001  175.220001   \n",
       "312  2024-04-02  164.750000  167.690002  163.429993  166.630005  166.630005   \n",
       "313  2024-04-03  164.020004  168.820007  163.279999  168.380005  168.380005   \n",
       "314  2024-04-04  170.000000  177.190002  168.009995  171.110001  171.110001   \n",
       "\n",
       "        Volume  \n",
       "310   77654800  \n",
       "311   81562100  \n",
       "312  116650600  \n",
       "313   82578000  \n",
       "314  121875403  "
      ]
     },
     "execution_count": 12,
     "metadata": {},
     "output_type": "execute_result"
    }
   ],
   "source": [
    "df.()"
   ]
  }
 ],
 "metadata": {
  "kernelspec": {
   "display_name": "GPU",
   "language": "python",
   "name": "python3"
  },
  "language_info": {
   "codemirror_mode": {
    "name": "ipython",
    "version": 3
   },
   "file_extension": ".py",
   "mimetype": "text/x-python",
   "name": "python",
   "nbconvert_exporter": "python",
   "pygments_lexer": "ipython3",
   "version": "3.9.18"
  }
 },
 "nbformat": 4,
 "nbformat_minor": 2
}
